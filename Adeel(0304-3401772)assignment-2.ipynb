{
 "cells": [
  {
   "cell_type": "markdown",
   "metadata": {},
   "source": [
    "# ASSIGNMENT  02"
   ]
  },
  {
   "cell_type": "code",
   "execution_count": 1,
   "metadata": {},
   "outputs": [
    {
     "name": "stdout",
     "output_type": "stream",
     "text": [
      "enter a distance in kilometers : 166.74\n",
      "distance to miles is 103.612236\n"
     ]
    }
   ],
   "source": [
    "# 1. Kilometer Converter\n",
    "#  Miles = Kilometers * 0.6214\n",
    "distance= float(input(\"enter a distance in kilometers : \"))\n",
    "Miles = distance*0.6214\n",
    "print(\"distance to miles is\" , Miles)"
   ]
  },
  {
   "cell_type": "code",
   "execution_count": 4,
   "metadata": {},
   "outputs": [
    {
     "name": "stdout",
     "output_type": "stream",
     "text": [
      "amount of the purchase = 5000\n",
      "Amount of the State_sales_tax is 200\n",
      "Amount of the county_sales_tax is 100\n",
      "The Total_sales_tax is 300\n",
      "TotalSale =  5300\n"
     ]
    }
   ],
   "source": [
    "# 2. Sale Tax Program Refactoring\n",
    "def  amount_of_purchase(Amount):\n",
    "    print(\"amount of the purchase =\",  Amount)\n",
    "    Amount_State_sales_tax=round(Amount*0.04)  #4/100\n",
    "    print(\"Amount of the State_sales_tax is\",Amount_State_sales_tax)\n",
    "    Amount_county_sales_tax = round(Amount*0.02)  #2/100\n",
    "    print(\"Amount of the county_sales_tax is\",Amount_county_sales_tax)\n",
    "    Total_sales_tax=Amount_State_sales_tax + Amount_county_sales_tax\n",
    "    print(\"The Total_sales_tax is\",Total_sales_tax)\n",
    "    TotalSale=Amount + Total_sales_tax\n",
    "    print(\"TotalSale = \",TotalSale)\n",
    "amount_of_purchase(5000)"
   ]
  },
  {
   "cell_type": "code",
   "execution_count": 5,
   "metadata": {},
   "outputs": [
    {
     "name": "stdout",
     "output_type": "stream",
     "text": [
      "the minimum amount of insurance is  3520000.0\n"
     ]
    }
   ],
   "source": [
    "# 3. How Much Insurance?\n",
    "def  replacement_cost(Cost):\n",
    "    minimum_amount = Cost*0.80  #80/100\n",
    "    print(\"the minimum amount of insurance is \" , minimum_amount)\n",
    "replacement_cost(4400000)    \n"
   ]
  },
  {
   "cell_type": "code",
   "execution_count": 8,
   "metadata": {},
   "outputs": [
    {
     "name": "stdout",
     "output_type": "stream",
     "text": [
      "total monthly cost of these expenses is 20710\n",
      "the total annual cost of these expenses is 248520\n"
     ]
    }
   ],
   "source": [
    "#  4. Automobile Costs\n",
    "def CostsFunction(loan_payment,insurance, gas, oil, tires,maintenance):\n",
    "    Total_monthly_cost =  loan_payment + insurance +  gas + oil + tires + maintenance\n",
    "    print(\"total monthly cost of these expenses is\" ,Total_monthly_cost)\n",
    "    total_annual_cost = Total_monthly_cost*12\n",
    "    print(\"the total annual cost of these expenses is\" ,total_annual_cost)\n",
    "CostsFunction(5000,10000,660,1150,3000,900)"
   ]
  },
  {
   "cell_type": "code",
   "execution_count": 15,
   "metadata": {},
   "outputs": [
    {
     "name": "stdout",
     "output_type": "stream",
     "text": [
      "the assessment value of property is 6000.0\n",
      "property tax on assessment_value is  38.4\n"
     ]
    }
   ],
   "source": [
    "# 5. Property Tax\n",
    "def Property(actual_value):\n",
    "    assessment_value =  actual_value*0.60   # 60/100\n",
    "    print(\"the assessment value of property is\",assessment_value)\n",
    "    property_tax = assessment_value* 0.0064            # 64/10000 \n",
    "    print(\"property tax on assessment_value is \", property_tax)\n",
    "Property(10000)"
   ]
  },
  {
   "cell_type": "code",
   "execution_count": 9,
   "metadata": {},
   "outputs": [
    {
     "name": "stdout",
     "output_type": "stream",
     "text": [
      "a person’s body mass index (BMI) = 1830.0\n"
     ]
    }
   ],
   "source": [
    "# 6. Body Mass Index\n",
    "def body_mass_index(weight,height):\n",
    "    BMI = (weight*703)//height**2   # BMI = weight * 703 / height^2\n",
    "    print(\"a person’s body mass index (BMI) =\" , BMI)\n",
    "body_mass_index(110,6.5)   #where weight is measured in pounds and height is measured in inches."
   ]
  },
  {
   "cell_type": "code",
   "execution_count": 11,
   "metadata": {},
   "outputs": [
    {
     "name": "stdout",
     "output_type": "stream",
     "text": [
      "Number of calories that result from the fat :  450\n",
      "number of calories that result from the carbohydrates :  80\n"
     ]
    }
   ],
   "source": [
    "# 7. Calories from Fat and Carbohydrates\n",
    "def number_of_fat_grams(fat_grams):\n",
    "    calories_from_fat = fat_grams * 9\n",
    "    print(\"Number of calories that result from the fat : \" ,calories_from_fat)\n",
    "number_of_fat_grams(50)\n",
    "def number_of_carbohydrate_grams(carb_grams):\n",
    "    calories_from_carbs = carb_grams * 4\n",
    "    print(\"number of calories that result from the carbohydrates : \", calories_from_carbs)\n",
    "number_of_carbohydrate_grams(20)"
   ]
  },
  {
   "cell_type": "code",
   "execution_count": 12,
   "metadata": {},
   "outputs": [
    {
     "name": "stdout",
     "output_type": "stream",
     "text": [
      "Ticket sold for class A :  375\n",
      "Ticket sold for class B :  108\n",
      "Ticket sold for class C :  108\n",
      "the amount of income generated from ticket sales is 591\n"
     ]
    }
   ],
   "source": [
    "# 8. Stadium Seating\n",
    "Class_A_cost = 15  # in $\n",
    "Class_B_cost = 12  # in $\n",
    "Class_C_cost = 9  # in $\n",
    "def Tickets_Selling(ticket_for_classA,ticket_for_classB,ticket_for_classC):\n",
    "    ticket_sold_classA=ticket_for_classA*Class_A_cost\n",
    "    print(\"Ticket sold for class A : \",ticket_sold_classA)\n",
    "    ticket_sold_classB=ticket_for_classB*Class_B_cost\n",
    "    print(\"Ticket sold for class B : \",ticket_sold_classB)\n",
    "    ticket_sold_classC=ticket_for_classC*Class_C_cost\n",
    "    print(\"Ticket sold for class C : \",ticket_sold_classC)\n",
    "    amount_of_income = ticket_sold_classA+ticket_sold_classB+ticket_sold_classC\n",
    "    print(\"the amount of income generated from ticket sales is\" ,amount_of_income)   # IN $\n",
    "Tickets_Selling(25,9,12)   "
   ]
  },
  {
   "cell_type": "code",
   "execution_count": 20,
   "metadata": {},
   "outputs": [
    {
     "name": "stdout",
     "output_type": "stream",
     "text": [
      "per_sq_feet_gallons = 0.0087\n",
      "per_sq_feet_labours = 0.0696\n",
      "number of gallons of paint required : 4\n",
      "Number of hours of labor_required : 35 hours\n",
      "The cost of the paint gallons :  3200\n",
      "The labor charges is 700.0\n",
      "The total cost of the paint job :  3900.0\n"
     ]
    }
   ],
   "source": [
    "# 9. Paint Job Estimator\n",
    "\n",
    "per_sq_feet_gallons=round(1/115,4)\n",
    "per_sq_feet_labours=round(8/115,4)\n",
    "print(\"per_sq_feet_gallons =\",per_sq_feet_gallons)\n",
    "print(\"per_sq_feet_labours =\",per_sq_feet_labours)\n",
    "companyCharges = 20.00  # $ per hour for labor\n",
    "def paintEstimator(square_feet_of_wall_space,price_paint_per_gallon):\n",
    "    no_of_gallons_paint_required = round(square_feet_of_wall_space*per_sq_feet_gallons)\n",
    "    print(\"number of gallons of paint required :\",no_of_gallons_paint_required)\n",
    "    hours_labor_required= round(square_feet_of_wall_space*per_sq_feet_labours)\n",
    "    print(\"Number of hours of labor_required :\" ,hours_labor_required, \"hours\")\n",
    "    cost_of_paint = no_of_gallons_paint_required*price_paint_per_gallon\n",
    "    print(\"The cost of the paint gallons : \",cost_of_paint)\n",
    "    labor_charges =  hours_labor_required*companyCharges\n",
    "    print(\"The labor charges is\",labor_charges)\n",
    "    Total_cost_for_paint_job = cost_of_paint+labor_charges\n",
    "    print(\"The total cost of the paint job : \", Total_cost_for_paint_job)\n",
    "paintEstimator(500,800)    "
   ]
  },
  {
   "cell_type": "code",
   "execution_count": 14,
   "metadata": {},
   "outputs": [
    {
     "name": "stdout",
     "output_type": "stream",
     "text": [
      "amount_of_county_sales_tax : 100.0\n",
      "amount_of_state_sales_tax : 200.0\n",
      "Total_sales_tax :  300.0\n"
     ]
    }
   ],
   "source": [
    "# 10. Monthly Sales Tax   \n",
    "county_sales_tax_rate = 0.02     # 2/100\n",
    "state_sales_tax_rate = 0.04   # 4/100 \n",
    "def TotalSales(Amount):\n",
    "    amount_of_county_sales_tax = Amount*county_sales_tax_rate \n",
    "    print(\"amount_of_county_sales_tax :\" ,amount_of_county_sales_tax )   \n",
    "    amount_of_state_sales_tax = Amount*state_sales_tax_rate \n",
    "    print(\"amount_of_state_sales_tax :\" ,amount_of_state_sales_tax)\n",
    "    Total_sales_tax =   amount_of_county_sales_tax + amount_of_state_sales_tax\n",
    "    print(\"Total_sales_tax : \" ,Total_sales_tax)\n",
    "TotalSales(5000)"
   ]
  },
  {
   "cell_type": "code",
   "execution_count": null,
   "metadata": {},
   "outputs": [],
   "source": []
  }
 ],
 "metadata": {
  "kernelspec": {
   "display_name": "Python 3",
   "language": "python",
   "name": "python3"
  },
  "language_info": {
   "codemirror_mode": {
    "name": "ipython",
    "version": 3
   },
   "file_extension": ".py",
   "mimetype": "text/x-python",
   "name": "python",
   "nbconvert_exporter": "python",
   "pygments_lexer": "ipython3",
   "version": "3.8.5"
  }
 },
 "nbformat": 4,
 "nbformat_minor": 4
}
