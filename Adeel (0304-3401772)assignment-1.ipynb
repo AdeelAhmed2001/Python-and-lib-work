{
 "cells": [
  {
   "cell_type": "markdown",
   "metadata": {},
   "source": [
    "# ASSIGNMENT-1"
   ]
  },
  {
   "cell_type": "code",
   "execution_count": 3,
   "metadata": {},
   "outputs": [
    {
     "name": "stdout",
     "output_type": "stream",
     "text": [
      "Adeel Ahmed\n",
      "North Karachi ,Karachi ,Pakistan\n",
      "0311-2222222\n",
      "karachi university\n"
     ]
    }
   ],
   "source": [
    "# 1. Personal Information\n",
    "print(\"Adeel Ahmed\")\n",
    "print(\"North Karachi\",\"Karachi\",\"Pakistan\",sep=\" ,\")\n",
    "print(\"0311-2222222\")\n",
    "print(\"karachi university\")"
   ]
  },
  {
   "cell_type": "code",
   "execution_count": 5,
   "metadata": {},
   "outputs": [
    {
     "name": "stdout",
     "output_type": "stream",
     "text": [
      "Enter Your Projected Amount:15000\n",
      "3450\n"
     ]
    }
   ],
   "source": [
    "# 2. Sales Prediction\n",
    "Annual_profit=0.23    #23/100\n",
    "Total_sales=int(input(\"Enter Your Projected Amount:\"))\n",
    "Profit=Annual_profit*Total_sales\n",
    "print(int(Profit))"
   ]
  },
  {
   "cell_type": "code",
   "execution_count": 14,
   "metadata": {},
   "outputs": [
    {
     "name": "stdout",
     "output_type": "stream",
     "text": [
      "enter the total square feet in a tract of land:72000\n",
      "1.65\n"
     ]
    }
   ],
   "source": [
    "# 3. Land Calculation\n",
    "One_acre_of_land = 43560 \n",
    "total_square_feet=int(input(\"enter the total square feet in a tract of land:\"))   # 8000 yard *9 sq feet\n",
    "number_of_acres = total_square_feet/One_acre_of_land\n",
    "print(format(number_of_acres,\".2f\"))"
   ]
  },
  {
   "cell_type": "code",
   "execution_count": 6,
   "metadata": {},
   "outputs": [
    {
     "name": "stdout",
     "output_type": "stream",
     "text": [
      "Enter price of 1st item : 500\n",
      "Enter price of 2nd item : 250\n",
      "Enter price of 3rd item : 450\n",
      "Enter price of 4th item : 50\n",
      "Enter price of 5th item : 150\n",
      "The subtotal of the sale is  1400\n",
      "The amount of sales tax is  84\n",
      "Total amount is  1484\n"
     ]
    }
   ],
   "source": [
    "# 4. Total Purchase\n",
    "Sales_Tax=0.06    #6/100\n",
    "First_item=int(input(\"Enter price of 1st item : \"))\n",
    "Second_item=int(input(\"Enter price of 2nd item : \"))\n",
    "Third_item=int(input(\"Enter price of 3rd item : \"))\n",
    "Fourth_item=int(input(\"Enter price of 4th item : \"))\n",
    "Fifth_item=int(input(\"Enter price of 5th item : \"))\n",
    "SubTotal=First_item+Second_item+Third_item+Fourth_item+Fifth_item\n",
    "print(\"The subtotal of the sale is \" ,SubTotal)\n",
    "Amount_of_sales_tax = round(SubTotal*Sales_Tax)\n",
    "print(\"The amount of sales tax is \" ,Amount_of_sales_tax)\n",
    "Total = round(SubTotal+Amount_of_sales_tax)\n",
    "print(\"Total amount is \" ,Total)"
   ]
  },
  {
   "cell_type": "code",
   "execution_count": 7,
   "metadata": {},
   "outputs": [
    {
     "name": "stdout",
     "output_type": "stream",
     "text": [
      "Distance1 =  300\n",
      "Distance2 =  480\n",
      "Distance3 =  720\n"
     ]
    }
   ],
   "source": [
    "# 5. Distance Traveled\n",
    "          #  Distance = Speed * Time\n",
    "Speed = 60\n",
    "The_distance1_the_car_will_travel_in = 5\n",
    "The_distance2_the_car_will_travel_in = 8\n",
    "The_distance3_the_car_will_travel_in = 12\n",
    "Distance1 = Speed*The_distance1_the_car_will_travel_in\n",
    "print(\"Distance1 = \",Distance1)\n",
    "Distance2 = Speed*The_distance2_the_car_will_travel_in\n",
    "print(\"Distance2 = \",Distance2)\n",
    "Distance3 = Speed*The_distance3_the_car_will_travel_in\n",
    "print(\"Distance3 = \",Distance3)"
   ]
  },
  {
   "cell_type": "code",
   "execution_count": 11,
   "metadata": {},
   "outputs": [
    {
     "name": "stdout",
     "output_type": "stream",
     "text": [
      "enter the amount of a purchase : 5000\n",
      "Amount of the Purchase :  5000\n",
      "Amount of the State_sales_tax is 200\n",
      "Amount of the county_sales_tax is 100\n",
      "The Total_sales_tax is 300\n",
      "TotalSale =  5300\n"
     ]
    }
   ],
   "source": [
    " # 6. Sales Tax\n",
    "Amount_Purchase = int(input(\"enter the amount of a purchase : \"))\n",
    "State_sales_tax = 0.04    # 4/100\n",
    "county_sales_tax = 0.02   # 2/100\n",
    "print(\"Amount of the Purchase : \",Amount_Purchase  )\n",
    "Amount_State_sales_tax=round(Amount_Purchase*State_sales_tax)\n",
    "print(\"Amount of the State_sales_tax is\",Amount_State_sales_tax)\n",
    "Amount_county_sales_tax = round(Amount_Purchase*county_sales_tax)\n",
    "print(\"Amount of the county_sales_tax is\",Amount_county_sales_tax)\n",
    "Total_sales_tax=Amount_State_sales_tax + Amount_county_sales_tax\n",
    "print(\"The Total_sales_tax is\",Total_sales_tax)\n",
    "TotalSale=Amount_Purchase + Total_sales_tax\n",
    "print(\"TotalSale = \",TotalSale)"
   ]
  },
  {
   "cell_type": "code",
   "execution_count": 16,
   "metadata": {},
   "outputs": [
    {
     "name": "stdout",
     "output_type": "stream",
     "text": [
      "Enter number of miles driven : 423.59\n",
      "Enter gallons of gas : 9\n",
      "Car's MPG 47.07\n"
     ]
    }
   ],
   "source": [
    "# 7. Miles-per-Gallon\n",
    "  #   MPG = Miles driven / Gallons of gas used\n",
    "number_of_miles_driven = float(input(\"Enter number of miles driven : \"))\n",
    "gallons_of_gas = float(input(\"Enter gallons of gas : \"))\n",
    "cars_MPG = number_of_miles_driven/gallons_of_gas\n",
    "print(\"Car's MPG\",format(cars_MPG,\".2f\"))"
   ]
  },
  {
   "cell_type": "code",
   "execution_count": 18,
   "metadata": {},
   "outputs": [
    {
     "name": "stdout",
     "output_type": "stream",
     "text": [
      "Enter the charge for the food : 6500\n",
      "amount of a 15 percent tip is 975\n",
      "amount of a 7 percent sales tax is 455\n",
      "The total amount of a meal purchased at a restaurant =  7930\n"
     ]
    }
   ],
   "source": [
    "# 8. Tip, Tax, and Total\n",
    "Charges_Food = int(input(\"Enter the charge for the food : \"))\n",
    "Amount_of_Tip=round(Charges_Food*0.15)\n",
    "Amount_of_Sales_Tax=round(Charges_Food*0.07)\n",
    "print(\"amount of a 15 percent tip is\",Amount_of_Tip)\n",
    "print(\"amount of a 7 percent sales tax is\",Amount_of_Sales_Tax)\n",
    "TotalAmountOfMeal=Charges_Food + Amount_of_Tip + Amount_of_Sales_Tax\n",
    "print(\"The total amount of a meal purchased at a restaurant = \",TotalAmountOfMeal)"
   ]
  },
  {
   "cell_type": "code",
   "execution_count": 29,
   "metadata": {},
   "outputs": [
    {
     "name": "stdout",
     "output_type": "stream",
     "text": [
      "Enter a temperature in Celsius : 35.69\n",
      "Fahrenheit_Temperature =  96.242\n"
     ]
    }
   ],
   "source": [
    "# 9. Celsius to Fahrenheit Temperature Converter\n",
    "    #  F = 9/5 C + 32\n",
    "Temperature_in_Celsius =float(input(\"Enter a temperature in Celsius : \"))\n",
    "Fahrenheit_Temperature=(9/5)*Temperature_in_Celsius + 32\n",
    "print(\"Fahrenheit_Temperature = \",Fahrenheit_Temperature)"
   ]
  },
  {
   "cell_type": "code",
   "execution_count": 1,
   "metadata": {},
   "outputs": [
    {
     "name": "stdout",
     "output_type": "stream",
     "text": [
      "Amount of money Joe paid for the stock is 32870.0\n",
      "Amount of commission Joe paid his broker is 657\n",
      "Amount that Joe sold the stock is 33920.0\n",
      "Commission Joe paid his broker when he sold the stock 678\n",
      "Amount of money that Joe had left 1071\n"
     ]
    }
   ],
   "source": [
    " # 10. Stock Transaction Program\n",
    "Joe_purchased_the_shares=1000 \n",
    "Joe_purchased_the_stock= 32.87   # per share\n",
    "Joe_paid_stock=Joe_purchased_the_shares*Joe_purchased_the_stock\n",
    "print(\"Amount of money Joe paid for the stock is\",Joe_paid_stock)\n",
    "commission_Joe_paid = round(Joe_paid_stock*0.02)   #2/100\n",
    "print(\"Amount of commission Joe paid his broker is\",commission_Joe_paid)\n",
    "Joe_sold_the_shares=1000\n",
    "Joe_sold_the_stock= 33.92   # per share\n",
    "Joe_sold_stock = Joe_sold_the_shares*Joe_sold_the_stock\n",
    "print(\"Amount that Joe sold the stock is\",Joe_sold_stock)\n",
    "commission_Joe_paid_for_sold=round(Joe_sold_stock *0.02)   #2/100\n",
    "print(\"Commission Joe paid his broker when he sold the stock\",commission_Joe_paid_for_sold)\n",
    "Amount_of_money = (Joe_sold_stock +  commission_Joe_paid_for_sold)-(Joe_paid_stock+commission_Joe_paid)\n",
    "Amount_of_money=round(Amount_of_money)\n",
    "print(\"Amount of money that Joe had left\",Amount_of_money)\n",
    "#If this amount is positive, then Joe made a profit. If the amount is negative, then Joe lost money."
   ]
  },
  {
   "cell_type": "code",
   "execution_count": null,
   "metadata": {},
   "outputs": [],
   "source": []
  }
 ],
 "metadata": {
  "kernelspec": {
   "display_name": "Python 3",
   "language": "python",
   "name": "python3"
  },
  "language_info": {
   "codemirror_mode": {
    "name": "ipython",
    "version": 3
   },
   "file_extension": ".py",
   "mimetype": "text/x-python",
   "name": "python",
   "nbconvert_exporter": "python",
   "pygments_lexer": "ipython3",
   "version": "3.8.5"
  }
 },
 "nbformat": 4,
 "nbformat_minor": 4
}
